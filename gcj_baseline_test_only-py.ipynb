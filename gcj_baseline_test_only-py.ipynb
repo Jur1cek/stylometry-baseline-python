{
 "cells": [
  {
   "cell_type": "code",
   "execution_count": 25,
   "metadata": {},
   "outputs": [],
   "source": [
    "import pandas as pd\n",
    "import numpy as np\n",
    "import pickle\n",
    "\n",
    "import sklearn\n",
    "from sklearn.feature_extraction.text import TfidfVectorizer\n",
    "from sklearn.svm import LinearSVC\n",
    "from sklearn.ensemble import RandomForestClassifier"
   ]
  },
  {
   "cell_type": "code",
   "execution_count": 26,
   "metadata": {},
   "outputs": [],
   "source": [
    "# load\n",
    "\n",
    "with open('model.pickle', 'rb') as handle:\n",
    "    model = pickle.load(handle)\n",
    "    \n",
    "with open('vectorizer.pickle', 'rb') as handle:\n",
    "    vectorizer = pickle.load(handle)\n",
    "\n",
    "# Train submissions\n",
    "with open('X_train.pickle', 'rb') as handle:\n",
    "    X_train = pickle.load(handle)\n",
    "\n",
    "# Test submissions\n",
    "with open('X_test.pickle', 'rb') as handle:\n",
    "    X_test = pickle.load(handle)\n",
    "\n",
    "# Train labels\n",
    "with open('y_train.pickle', 'rb') as handle:\n",
    "    y_train = pickle.load(handle)\n",
    "\n",
    "# Test labels\n",
    "with open('y_test.pickle', 'rb') as handle:\n",
    "    y_test = pickle.load(handle)"
   ]
  },
  {
   "cell_type": "code",
   "execution_count": 27,
   "metadata": {},
   "outputs": [],
   "source": [
    "# Example prediction\n",
    "# These are strings basically\n",
    "X_test_new = [X_test[2]]\n",
    "y_test_new = [y_test[2]]"
   ]
  },
  {
   "cell_type": "code",
   "execution_count": 28,
   "metadata": {},
   "outputs": [],
   "source": [
    "test_vectors = vectorizer.transform(X_test_new)"
   ]
  },
  {
   "cell_type": "code",
   "execution_count": 29,
   "metadata": {},
   "outputs": [],
   "source": [
    "pred = model.predict(test_vectors)"
   ]
  },
  {
   "cell_type": "code",
   "execution_count": 30,
   "metadata": {},
   "outputs": [
    {
     "data": {
      "text/plain": [
       "1.0"
      ]
     },
     "execution_count": 30,
     "metadata": {},
     "output_type": "execute_result"
    }
   ],
   "source": [
    "sklearn.metrics.accuracy_score(y_test_new, pred)"
   ]
  },
  {
   "cell_type": "code",
   "execution_count": 34,
   "metadata": {},
   "outputs": [
    {
     "name": "stdout",
     "output_type": "stream",
     "text": [
      "truth mkasp98\n",
      "predicted mkasp98\n"
     ]
    }
   ],
   "source": [
    "print(\"truth\", y_test[2])\n",
    "print(\"predicted\", pred[0])"
   ]
  },
  {
   "cell_type": "code",
   "execution_count": 32,
   "metadata": {},
   "outputs": [
    {
     "data": {
      "text/plain": [
       "'t = int(input())\\n\\nfor c in range(t):\\n    n = int(input())\\n\\n    m = []\\n    for _ in range(n):\\n        row = input()\\n        m.append([int(x) for x in row.split()])\\n\\n    trace = 0\\n    for i in range(n):\\n        trace += m[i][i]\\n\\n    rows = 0\\n    for i in range(n):\\n        found = [False] * n\\n        for j in range(n):\\n            v = m[i][j] - 1\\n            if found[v]:\\n                rows += 1\\n                break\\n            found[v] = True\\n\\n    cols = 0\\n    for i in range(n):\\n        found = [False] * n\\n        for j in range(n):\\n            v = m[j][i] - 1\\n            if found[v]:\\n                cols += 1\\n                break\\n            found[v] = True\\n\\n    print(\"Case #%d: %d %d %d\" % (c,trace,rows,cols))\\n'"
      ]
     },
     "execution_count": 32,
     "metadata": {},
     "output_type": "execute_result"
    }
   ],
   "source": [
    "X_test[2]"
   ]
  },
  {
   "cell_type": "code",
   "execution_count": 35,
   "metadata": {},
   "outputs": [
    {
     "data": {
      "text/plain": [
       "array(['000alen', '0xb4lamx', '0xhelium', '15joeybloom', '581',\n",
       "       '@arberaga', 'AQForty', 'Aadi*', 'AasthaMehta', 'Abhayraj',\n",
       "       'Abhishekkale', 'Addilergy', 'Adey1989', 'AdiRockSingh',\n",
       "       'Adithya_Saravu', 'AdityaNagar', 'Aditya_Kaushik', 'Adriantega',\n",
       "       'Adrien_Vdk', 'AeriaGloris', 'AjitZero', 'Ajoshicoder', 'Akormous',\n",
       "       'Akshay786', 'AlexZorn', 'AlinaTrinh', 'AlixMartin',\n",
       "       'AloneVenator', 'Amaury.Liet', 'Ambling', 'AmiWrong',\n",
       "       'AmitHaritwal', 'Amrendra_07', 'Anand2702', 'Andgem',\n",
       "       'AndreaCaciolai', 'Andresrodart', 'AndrewMathias', 'AndrewZYX',\n",
       "       'AnirbanChowdhury', 'AnkurAmbastha', 'Annguyen1411',\n",
       "       'Anonymous226', 'AnupamKris', 'AnushkaDeshpande', 'Arutu',\n",
       "       'Arwan_c', 'Ash110', 'AshishGusain17', 'AshishNegi', 'Ashryny',\n",
       "       'Astrocyte', 'Atake', 'Auras', 'Aurel', 'Avalanche_', 'Axioma',\n",
       "       'Ayush_kesar', 'BH4', 'BTW_Jayant', 'BaconWaffle', 'BasilBader',\n",
       "       'Bazinga13', 'BeanTheMan', 'BenJamesMurray', 'Birid', 'BlackHack',\n",
       "       'Blencer', 'Bmac', 'Booob', 'BrPP', 'Braxxe', 'BritneyShai',\n",
       "       'Bugmaker', 'CakeAuxAnchois', 'CalGuMiBears', 'Callidior',\n",
       "       'CalzoneChampiPoivron', 'Carlos0914', 'Casp3r', 'ChaiSilva',\n",
       "       'Chandima98', 'Chandra80', 'Chandrukumar707', 'Chayeen',\n",
       "       'Chinu8989', 'ChiragJRana', 'Chiranjeev11', 'Chrisplus', 'Cir2100',\n",
       "       'Clamchow', 'CleanPegasus', 'CoCoMong', 'CodeStallion', 'Coderush',\n",
       "       'CodingMushroom', 'CrazyYu', 'Cyrial', 'D3r', 'DBlaster1000',\n",
       "       'DaniTunes', 'Daoues', 'DarkArrow', 'DarthBenro008', 'DarthRyry',\n",
       "       'David2cn', 'DevamSheth', 'DhruvBhargava', 'DhruvaBhavsar',\n",
       "       'Diamondraras', 'DiedriK', 'DiegoM', 'Dilith', 'DivyanshBhojane',\n",
       "       'DivyeshPK', 'Diwanshu885', 'Dmytruto', 'Dolbz', 'DontRain',\n",
       "       'Dravini', 'Dungeonmaster', 'EPrebet', 'Eike', 'ElPatron',\n",
       "       'EliotZhang', 'EliteLabyrinth', 'EricStansifer', 'Eric_Chu',\n",
       "       'Execute', 'Exodus_baobao', 'FarisHakim', 'Farog', 'Federer94',\n",
       "       'Fedorov_Mikhail_S', 'FelixHo', 'Fettn', 'Fibi', 'FittySpence',\n",
       "       'Flabi', 'Freeze_4Life', 'Frostfrog', 'FruitCakeS-', 'Gaspi',\n",
       "       'GeertHub', 'Geser', 'Gullydeckel', 'GumJum', 'HansLehnert',\n",
       "       'Hansul', 'Hari_Prasad', 'HarveyBrCo', 'Hashcoder', 'Hboni',\n",
       "       'HeyUalabi', 'Hiruna', 'Hpr', 'Hsi', 'HugoBarbaroux',\n",
       "       'IcecreamMaster', 'Inkognita', 'Itachi_uchiha', 'Itay123',\n",
       "       'Izanagi', 'Jabber', 'JackieMA', 'JacopoS', 'JanKuipers',\n",
       "       'JaredGov', 'JayHoney', 'Jazzantonio', 'Jeck5ivk', 'Jekkyl',\n",
       "       'JeremyRees', 'JerryU', 'Jingxuan', 'JiyuHuang', 'Joanguitar',\n",
       "       'JogleLew', 'JohnNo', 'Jonte98', 'Jordan_jeg', 'Jsmargolin',\n",
       "       'Junhee', 'JyotM', 'KA_Rma', 'KC#', 'KL', 'KSoul', 'Kangourou42',\n",
       "       'KaranChauhan1907', 'Karishu', 'KarthikMamidi', 'Kasanitej',\n",
       "       'Katsuki', 'KaustubhMiglani', 'Kaλλas', 'Kerelos_Diaa', 'Khaelex',\n",
       "       'Khush__123', 'KienTiet', 'Kiri8128', 'Knk_kei', 'KoenR',\n",
       "       'Kousheek', 'Kshitijsaluja', 'Kuko', 'Kunalgupta26', 'Kurama',\n",
       "       'Kurisu858', 'Kvds', 'Künchtler', 'LDFrank', 'Lenur', 'Leonex',\n",
       "       'LimaMike', 'Limetree', 'Lincx', 'LlL', 'LordlinImmanuel',\n",
       "       'LouisGt', 'LuckyDon', 'Lyonbeasy2', 'MBaltz', 'Magnetix',\n",
       "       'MagnusJ', 'Mahi941333', 'MakiY', 'Mammouth', 'Manvirthecoder',\n",
       "       'Marc974', 'MarianDubei', 'MarkYHZhang', 'MartinSeeler',\n",
       "       'MatiCarballo', 'McDic', 'Megumin', 'Merijn181', 'MetaSir',\n",
       "       'Mich3l', 'MichaelJing', 'Michip96', 'Mohan98612', 'MoloxMBA',\n",
       "       'Monir786', 'Moomba', 'MouhieddineSabir', 'Mr.Relax', 'MrFlibble',\n",
       "       'MrGhasita', 'Munch_01', 'Myridium', 'NMinoli', 'NOT_YET_CRACKED',\n",
       "       'Nachosanta', 'Nadeeshan', 'NamanTyagi', 'NathanHadi', 'NawfelT',\n",
       "       'NeelpB', 'Nerdcore', 'Nik777', 'Nirav3Madhani', 'Nisarg_14',\n",
       "       'NishilAgrawal', 'Nogard', 'OliverJohnson', 'OneCommitMan',\n",
       "       'OrginalS', 'Owi', 'PETERAFELLOWES@GMAIL.COM', 'PIum',\n",
       "       'ParmeggianiAlessio', 'ParticleMan', 'Patchy', 'Paulindrome',\n",
       "       'Pavani1', 'Pedastrian', 'Perin', 'PeterSmit', 'PhysMonk',\n",
       "       'Pigloo', 'PrabalSrivastava', 'Prabhakar99', 'PranavM',\n",
       "       'PraveenParihar', 'PraveenSaiSanthosh', 'Prof_X', 'Pulkit100',\n",
       "       'Pushpendra_1991', 'PyaePK', 'Pyman_Su', 'QBits', 'Qanora',\n",
       "       'QuantumCaffeine', 'QuantumPeak', 'RMDLBYS', 'Rafaeljss',\n",
       "       'Rahul@1805', 'Rank_Jay', 'RapTvin', 'Reyman', 'Rezan',\n",
       "       'Ricky1121', 'RikaardHosein', 'RobbeSneyders', 'Robingan7',\n",
       "       'Rohit1905', 'Roshan1997', 'Rosstherock', 'Ryhime', 'Ryudnar',\n",
       "       'SJ_AI', 'SaiNandhini', 'SalimAboubacar', 'SaltSmile', 'Sampat_AJ',\n",
       "       'Sandeepa1995', 'Sanjay_PK', 'Satys', 'Saujanime', 'Scoci',\n",
       "       'Sean223', 'SeppeVS', 'SergioG', 'Sestren', 'ShaharBental',\n",
       "       'Shaktinath', 'Shanshan33', 'Sharky564', 'Shawnxd', 'ShivaJim',\n",
       "       'Shriyan', 'Shubhamcs', 'Siddartha19', 'SiddharthSharma',\n",
       "       'Siddharth_fultariya', 'Silphire', 'Sinei', 'SirNyeteg',\n",
       "       'SkipperUzumaki', 'Slade', 'Slavo', 'Smartvish', 'Smb',\n",
       "       'Solpatium', 'Somniac', 'Splend1dChan', 'Sreya_potluri',\n",
       "       'Srihari512', 'StarkofWinter', 'Steap', 'StormSpirit', 'Sud_geek',\n",
       "       'SuperDupont', 'Susnato', 'Suyashs10', 'T0T3M_M4G1', 'TDove',\n",
       "       'THJSmith', 'TaNYA99SaXENA', 'Taehun.Kim', 'TahaNemat', 'Tanp',\n",
       "       'Tao_Cheng', 'Tarun98', 'Tashiqi', 'Tchou', 'TechAkhil',\n",
       "       'Th1nhNg0', 'Th_Filipe', 'ThaNaHaTos', 'TheOneisNEO',\n",
       "       'The_Death_Reaper', 'The_King', 'The_all_solving_guy', 'Thien',\n",
       "       'Tirupathirao', 'Tish', 'ToBeChanged', 'Tomii9273', 'Tomsi',\n",
       "       'TonyRedGrave', 'TracerMain', 'Trexer', 'Trinadh.s',\n",
       "       'Troublemaker', 'TubbDoose', 'Twillo', 'Tyrex19', 'Tyzik',\n",
       "       'UltimateSupreme', 'Utkarsh_Maheshwari', 'Varun332', 'Vbj',\n",
       "       'Venkatraj', 'VeryCIeverName', 'Vidhan02', 'VigneshBalaji',\n",
       "       'Vijay38', 'Vikki_pikki', 'VinayJulme', 'Viru001', 'Viserion',\n",
       "       'Void#', 'WNG', 'WebAssembly', 'Wellan89', 'Wen_Yuan', 'Woodyhoko',\n",
       "       'XYZT', 'Xelote', 'Xoff', 'Xypho', 'Y.Senoh', 'YH89', 'YanruCheng',\n",
       "       'Yarde', 'Yeah2333', 'Yesusbc', 'YeungTW', 'Yogya', 'Yozer',\n",
       "       'YuMS', 'Yueshun', 'YuxinLi', 'ZOZiBoi', 'Zobotrebec', '_0Varun0_',\n",
       "       '_Flippy', '_GuptaTushar', 'a.inglett', 'a.meshref@alustudent.com',\n",
       "       'aaaanmol', 'aadi2001', 'aalhour', 'aanu1143', 'aanupam',\n",
       "       'abhi128', 'abhignalshastry', 'abhijain03102000@gmail.com',\n",
       "       'abhinavbohra', 'abhishek72', 'abk08052000', 'adi0311',\n",
       "       'adityaDutta', 'adrianoosales', 'agarwalaashish', 'agraul',\n",
       "       'ahamedyaserarafath@gmail.com', 'ahmedamr', 'aishaa293',\n",
       "       'ajayaram', 'ajinkya_taranekar', 'akshay_zZ', 'akshitm16',\n",
       "       'alexanderbodard', 'alexeymk', 'amitos987', 'amokam', 'amonowy',\n",
       "       'aname40', 'angrynerd', 'anib', 'anis.tajouri', 'ankit_kr_',\n",
       "       'answeranswer', 'anthonyclays', 'antmtr', 'anubhavdutta',\n",
       "       'appu027', 'apscst', 'arma.lo', 'arpitmohapatra1911',\n",
       "       'aryansh2468', 'asat', 'ashwani_rahul', 'asimokby', 'aswintechguy',\n",
       "       'aussicht', 'avinashshenoy97', 'aweltsch', 'ayush.',\n",
       "       'azul_clarito', 'babis99', 'babloo03', 'badger4life', 'banje',\n",
       "       'barankandil', 'battleforged', 'bendeutz', 'bens', 'berko',\n",
       "       'beth_grnt', 'bever209', 'bk-worm', 'blank65', 'bloqdymary',\n",
       "       'boop21', 'bpdolson', 'brandxntu', 'breno', 'bytethepeach',\n",
       "       'caecilia', 'campbellsinclair', 'caph1993@gmail.com', 'carrexxon',\n",
       "       'cctrain', 'cglotr', 'chaosphere', 'chariton', 'charlie0414',\n",
       "       'chess4ever', 'chin123', 'chinyavadav', 'chlore', 'choo.s',\n",
       "       'chutipon', 'cintia', 'clh_perry', 'clwang2', 'cnikhil',\n",
       "       'coderbharat', 'codeslash21', 'colonelkernel', 'crod', 'crunch',\n",
       "       'cshorvath', 'cskanani', 'ctpeepee', 'cyber3x', 'dada', 'daimi89',\n",
       "       'dakshah', 'danielbraithwt@gmail.com', 'danishkumar', 'danman',\n",
       "       'darm', 'dden4ik', 'ddstone', 'deathReaper0965', 'debjitdbb',\n",
       "       'deekshant', 'deepu@2001', 'demery12', 'devank', 'dhanushkr',\n",
       "       'dhrumilp15', 'diegol7', 'dineshreddy590', 'dingdingfly',\n",
       "       'dipta007', 'disneyp', 'djdany444@gmail.com', 'dmikhalin', 'dmred',\n",
       "       'dnsmcbr', 'doraepon', 'douasin', 'drchandra', 'dreamrunner',\n",
       "       'dshahid380', 'dvargas92495', 'dvk98', 'dwiggy',\n",
       "       'edhzsz@gmail.com', 'edukure', 'eeegnu', 'eiv', 'eken25',\n",
       "       'elcapovarela', 'elena.petrunina', 'elle_elena', \"em'\",\n",
       "       'enricobacis', 'eric@legoaces.org', 'ericchiu', 'errexcii',\n",
       "       'erwang01', 'eshirazi', 'ethryn', 'eugene_', 'ezz', 'fauh45',\n",
       "       'festony', 'flexr', 'fllstacknodecjw', 'flyingmars', 'fotihk',\n",
       "       'fredybotas', 'free.skier', 'frunkad', 'gaha', 'garciparedes',\n",
       "       'garder14', 'gaurav1903', 'gavinksong', 'gc.code', 'gepapado',\n",
       "       'ghtz', 'gin23', 'glucose', 'gmarouli', 'goombis', 'gopichand_k',\n",
       "       'greatwhite', 'greendrizzle', 'guaguakai', 'gudavid',\n",
       "       'guilhermecorreagv', 'gus.masa', 'h1manshu', 'hackerpschorr',\n",
       "       'hallgrimur1471', 'hamishpk', 'hapadona', 'harsharokzz',\n",
       "       'hayden88', 'heidi@computerscience.co.nz', 'hellraier',\n",
       "       'hemanthsai', 'heony', 'herbi', 'higherorder', 'hmuhammadazeem',\n",
       "       'hsvsurya', 'hubbaj1', 'hunter1594', 'huyn@iastate.edu',\n",
       "       'i_am_groot', 'iamKa_aL', 'ilo12', 'imtk', 'inforthecode',\n",
       "       'irnamosa', 'isthisnaikal', 'jabbawookiees', 'jacadi', 'jackdaw',\n",
       "       'jackee777', 'jamohile', 'jankislinger', 'jaqee', 'jasonwolf',\n",
       "       'jeetsagar', 'jh05013', 'jihyeseo', 'jim800121.chen', 'jiosephlee',\n",
       "       'jleeasdf', 'jmanchuck', 'joamestanza', 'jobzoon', 'joel.ldh',\n",
       "       'johannly', 'john35452', 'jonbonto', 'jonneka', 'jos3f', 'josephr',\n",
       "       'jotaro-sama', 'jouzo', 'jovan.krajevski@gmail.com', 'jqxcz',\n",
       "       'jrhee17', 'jsrv', 'jtelford', 'julesmichaud', 'jurgen', 'jwat',\n",
       "       'jyesr', 'jygsim', 'jzsoftware', 'kaheicanaan', 'kahkasha',\n",
       "       'kamilgg', 'karantanwar469', 'karimassi', 'karthik6117',\n",
       "       'karthikayan', 'kenyor', 'kevinlinxc', 'kevinsogo', 'khanter',\n",
       "       'khe618', 'kieran@bristow.za.net', 'kingKoder', 'kiritowo',\n",
       "       'kkiizz', 'kkoyias', 'km', 'knzm', 'kobratooth', 'kola_kolot',\n",
       "       'komainu', 'koujm', 'krishnasis', 'kron', 'krukovna', 'krull',\n",
       "       'ktodorv', 'kurtjanssens', 'kwanghoon', 'kyo1', 'kytabyte',\n",
       "       'latoun', 'lavleshjoshi', 'le_z_coder', 'legendAR', 'level.51',\n",
       "       'liao02x', 'limguswls', 'localhost8888', 'lolx', 'lostinargand',\n",
       "       'lowers', 'luca.madeInItaly', 'lukew3', 'm.camac', 'm4nd9',\n",
       "       'mabelpines', 'maddys26', 'maichelyb', 'marccarre', 'markopuza',\n",
       "       'marlan', 'marmer', 'mathiasfloe@live.dk', 'matsu7874',\n",
       "       'matt-mekha', 'mattiadg', 'maxymkuz', 'mayank57', 'mcarvalhonali',\n",
       "       'mckaysm', 'medocm', 'mefan', 'mehran', 'meli2200', 'metanovitia',\n",
       "       'metaxylene', 'micasa', 'michal27', 'michalabr', 'mickie895',\n",
       "       'minaminaminarii', 'minm', 'mj3n', 'mkasp98', 'mkujaggi', 'mofhu',\n",
       "       'mohinder_goyal', 'mohit2agrawal', 'moneebarif', 'mooseq', 'moxis',\n",
       "       'mr._white_hat_', 'mr_ahuja9211', 'mstng1967', 'myfriendprintf',\n",
       "       'mystery2828', 'nakuga', 'namanjuneja77', 'namlt', 'nandangrover',\n",
       "       'naochobin', 'natetonal', 'natpat', 'naveendonepudi', 'nbis',\n",
       "       'nboatman', 'ndre', 'nedo', 'neelp', 'nguyenqh', 'nickie',\n",
       "       'nicoeps', 'nicolas.bereux@gmail.com', 'nikhiljadhav2809',\n",
       "       'ninaad211198', 'nipnap32', 'nitheeshKumarKambala', 'nitzan1234',\n",
       "       'nitzanc', 'nixs', 'njw1204', 'nocreative', 'note35', 'noxthot',\n",
       "       'nskobelevs', 'nugn', 'nuke2night', 'oberkorn',\n",
       "       'ol.allbless@gmail.com', 'oneiros', 'onironaute', 'onlypaan',\n",
       "       'ordogfioka', 'owling', 'ozone-oh', 'panda114', 'pardha_manikanth',\n",
       "       'parth123', 'passil_t', 'patrickzbhe', 'paulniziolek', 'pavan__',\n",
       "       'pavansid69', 'pavva', 'paweenpit', 'pdeb', 'pdesolminihac',\n",
       "       'peijia', 'pelliot', 'petite_prog', 'pioresnada', 'pminimd',\n",
       "       'pogodinaE', 'pos1tr0n', 'potol', 'ppapsans', 'ppleboss',\n",
       "       'pradyumndaga', 'pranitaagrawal96@gmail.com', 'pranshukh',\n",
       "       'prietoa', 'primoz', 'prithivi7563',\n",
       "       'pruthvirajkottigari@gmail.com', 'ptrj', 'puji@vempati',\n",
       "       'pujith22', 'punishkar', 'pytran', 'qqqqwwwweeeerrrrtttt', 'qr4',\n",
       "       'quimey', 'quinnydinny', 'raghav6761', 'rahulsoni', 'rajanayaki',\n",
       "       'rajkumarMittal', 'rak1507', 'ralcanta', 'ram9095', 'ramek',\n",
       "       'rasha_11', 'ravalos', 'rezza', 'ricsi98', 'rin2401',\n",
       "       'rishabh-saxena', 'rishabhk1', 'rishabmsaini',\n",
       "       'rishitbansal0@gmail.com', 'ritzcr', 'ro_obot', 'robinpcandy',\n",
       "       'rohithreddy', 'roiti46', 'ronalchn', 'ronnie22',\n",
       "       'roshansreekanth', 'royashiki', 'ryanyu', 'saba_salehi',\n",
       "       'saksham_sethi', 'samLyle', 'samman', 'sancierra', 'saurabh_a_p',\n",
       "       'savpatpanda', 'scezar', 'sdort', 'seetdev', 'semicolondelimiter',\n",
       "       'sergeykozub', 'seunggabi', 'sh1vkr', 'shaanrockz', 'shagrawal',\n",
       "       'shaista', 'shamio', 'shamitha_narra', 'shamshad.npti',\n",
       "       'shantanu3499', 'sharkfin777', 'sheldone', 'shindexro',\n",
       "       'shiv@ds48', 'shopel', 'shrikarcodes', 'sidneythekidney',\n",
       "       'siegetanks', 'silvia_cr', 'sinindra', 'skhasan93@gmail.com',\n",
       "       'skiracer', 'smokingthesemeats', 'soanagno', 'sonap',\n",
       "       'songoku2002', 'sos_ankit_07', 'sourabh97',\n",
       "       'sourajit_7_antimonysb', 'sravb', 'ssreeramj', 'st2', 'stPio',\n",
       "       'stdio2019', 'stevencl', 'sub_coder1', 'subham007', 'submohr',\n",
       "       'sukovanej', 'supermousepotato', 'suren31415', 'suvi101', 'sweela',\n",
       "       'szalaib', 'tacromacro', 'tak0821', 'takaki', 'teacup123123',\n",
       "       'th_heuer', 'the_pro_programmar', 'themistoklik', 'thibaudlabat',\n",
       "       'thisisashwani', 'thmx', 'thumbd12856', 'tida', 'tidota',\n",
       "       'timbaforreal', 'tingelbi', 'tkhrssk', 'tomjury_007', 'tomo0608',\n",
       "       'tomprice719', 'tomvdm', 'tonybob', 'trasta', 'trort', 'ture',\n",
       "       'tyawanmusi', 'tylanmm', 'ujju1999', 'ukar', 'umair-a',\n",
       "       'umeshchandra', 'unknown18', 'usajjad123', 'uturyo27182', 'v0k',\n",
       "       'varaprasad6700', 'vatsal-kandoi', 'vcandeias', 'vcubingx',\n",
       "       'vexilla72', 'vii', 'vimtone', 'vincentni',\n",
       "       'vineetgopal92@gmail.com', 'vineyk24@gmail.com',\n",
       "       'vladimir_bukhonov', 'vladpirlog', 'vlee', 'vrindasinghal1998',\n",
       "       'vuquach', 'warrior123', 'weitang114', 'wenwenwang', 'wgolling',\n",
       "       'wh1000x', 'whybein', 'wildchar', 'wlesavo',\n",
       "       'worldrevolvesaroundyou', 'x12', 'x_ry', 'xf', 'xiaoweiliu',\n",
       "       'xu2f', 'yang6887', 'yanirmr', 'yarmash', 'yashbansal',\n",
       "       'yashsolanki_99', 'yasufumy', 'yhn112', 'yochien', 'yogeshpatil',\n",
       "       'yohelinux', 'yoloha', 'ztgb219', 'zwouter', 'zxcand', 'zzz123',\n",
       "       'зк', '李云龙我听说你发财了', '🦅'], dtype='<U29')"
      ]
     },
     "execution_count": 35,
     "metadata": {},
     "output_type": "execute_result"
    }
   ],
   "source": [
    "# List of users\n",
    "np.unique(y_train)"
   ]
  }
 ],
 "metadata": {
  "kernelspec": {
   "display_name": "Python 3",
   "language": "python",
   "name": "python3"
  },
  "language_info": {
   "codemirror_mode": {
    "name": "ipython",
    "version": 3
   },
   "file_extension": ".py",
   "mimetype": "text/x-python",
   "name": "python",
   "nbconvert_exporter": "python",
   "pygments_lexer": "ipython3",
   "version": "3.7.3"
  }
 },
 "nbformat": 4,
 "nbformat_minor": 2
}
