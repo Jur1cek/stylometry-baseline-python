{
 "cells": [
  {
   "cell_type": "code",
   "execution_count": 56,
   "metadata": {},
   "outputs": [],
   "source": [
    "import pandas as pd\n",
    "import numpy as np\n",
    "import pickle\n",
    "\n",
    "import sklearn\n",
    "from sklearn.feature_extraction.text import TfidfVectorizer\n",
    "from sklearn.svm import LinearSVC\n",
    "from sklearn.ensemble import RandomForestClassifier"
   ]
  },
  {
   "cell_type": "code",
   "execution_count": 57,
   "metadata": {},
   "outputs": [],
   "source": [
    "# load\n",
    "\n",
    "with open('model.pickle', 'rb') as handle:\n",
    "    model = pickle.load(handle)\n",
    "    \n",
    "with open('vectorizer.pickle', 'rb') as handle:\n",
    "    vectorizer = pickle.load(handle)\n",
    "\n",
    "# Train submissions\n",
    "with open('X_train.pickle', 'rb') as handle:\n",
    "    X_train = pickle.load(handle)\n",
    "\n",
    "# Test submissions\n",
    "with open('X_test.pickle', 'rb') as handle:\n",
    "    X_test = pickle.load(handle)\n",
    "\n",
    "# Train labels\n",
    "with open('y_train.pickle', 'rb') as handle:\n",
    "    y_train = pickle.load(handle)\n",
    "\n",
    "# Test labels\n",
    "with open('y_test.pickle', 'rb') as handle:\n",
    "    y_test = pickle.load(handle)"
   ]
  },
  {
   "cell_type": "code",
   "execution_count": 58,
   "metadata": {},
   "outputs": [],
   "source": [
    "# Example prediction\n",
    "# These are strings basically\n",
    "X_test_new = [X_test[2]]\n",
    "y_test_new = [y_test[2]]"
   ]
  },
  {
   "cell_type": "code",
   "execution_count": 59,
   "metadata": {},
   "outputs": [],
   "source": [
    "test_vectors = vectorizer.transform(X_test_new)"
   ]
  },
  {
   "cell_type": "code",
   "execution_count": 60,
   "metadata": {},
   "outputs": [],
   "source": [
    "pred = model.predict(test_vectors)"
   ]
  },
  {
   "cell_type": "code",
   "execution_count": 61,
   "metadata": {},
   "outputs": [
    {
     "data": {
      "text/plain": [
       "1.0"
      ]
     },
     "execution_count": 61,
     "metadata": {},
     "output_type": "execute_result"
    }
   ],
   "source": [
    "sklearn.metrics.accuracy_score(y_test_new, pred)"
   ]
  },
  {
   "cell_type": "code",
   "execution_count": 65,
   "metadata": {},
   "outputs": [
    {
     "name": "stdout",
     "output_type": "stream",
     "text": [
      "truth Bilisel\n",
      "predicted Bilisel\n"
     ]
    }
   ],
   "source": [
    "print(\"truth\", y_test_new[0])\n",
    "print(\"predicted\", pred[0])"
   ]
  },
  {
   "cell_type": "code",
   "execution_count": 63,
   "metadata": {},
   "outputs": [
    {
     "data": {
      "text/plain": [
       "\"DEBUG = 0\\n\\n\\ndef print_pascal(n=10):\\n    p = [[1], [1, 1]]\\n    for i in range(2, n + 1):\\n        a = [1]\\n        for j in range(1, i + 1):\\n            k = p[-1][j - 1]\\n            if j < len(p[-1]):\\n                k += p[-1][j]\\n            a.append(k)\\n        p.append(a)\\n    for line in p:\\n        print(str(sum(line)), '  |  ', ' '.join(map(str, line)))\\n\\n\\ndef get_tests(use_file):\\n    if use_file:\\n        tests = []\\n        with open('test.txt', 'r') as ifs:\\n            lines = ifs.readlines()\\n            n = int(lines[0])\\n            return list(map(int, lines[1:n+1]))\\n    else:\\n        T = int(input())\\n        tests = []\\n        for _ in range(T):\\n            n = int(input())\\n            tests.append(n)\\n    return tests\\n\\n\\ndef solution(n):\\n    K = 42\\n    if n < K + 5:\\n        res = [(i, 1) for i in range(1, n + 1)]\\n        return '\\\\n'.join('%d %d' % (r, k) for r, k in res)\\n    \\n    x = n - K\\n    v = []\\n    b = 1\\n    while x > 0:\\n        if x & 1:\\n            v.append(b)\\n        x >>= 1\\n        b += 1\\n    \\n    res = []\\n    s = 0\\n    i = 0\\n    row = 1\\n    should_rev = False\\n    while s < n:\\n        if i >= len(v) or v[i] != row:\\n            if should_rev:\\n                res.append((row, row))\\n            else:\\n                res.append((row, 1))\\n            s += 1\\n        else:\\n            z = []\\n            for j in range(row):\\n                z.append((row, j + 1))\\n            s += 1 << (row - 1)\\n            if should_rev:\\n                res.extend(z[::-1])\\n            else:\\n                res.extend(z)\\n            should_rev = not should_rev\\n            i += 1\\n        row += 1\\n    return '\\\\n'.join('%d %d' % (r, k) for r, k in res)\\n    \\n\\ndef main(is_debug):\\n    tests = get_tests(is_debug)\\n    for test, n in enumerate(tests):\\n        result = solution(n)\\n        print('Case #%d:\\\\n%s' % (test + 1, result))\\n\\n\\nif __name__ == '__main__':\\n    main(DEBUG)\\n\""
      ]
     },
     "execution_count": 63,
     "metadata": {},
     "output_type": "execute_result"
    }
   ],
   "source": [
    "X_test[0]"
   ]
  },
  {
   "cell_type": "code",
   "execution_count": 64,
   "metadata": {},
   "outputs": [
    {
     "data": {
      "text/plain": [
       "array(['007brendan@gmail.com', 'AQForty', 'AndrewMathias', 'Ashwa462',\n",
       "       'Aurel', 'Ayush1290', 'BargaviC', 'Beurtschipper', 'Bilisel',\n",
       "       'C_BK', 'CoCoMong', 'Emily1616', 'HotCurry', 'HydraulicSheep',\n",
       "       'Jacky_Zheng', 'Jahnavi_M', 'Jeck5ivk', 'Kandhum', 'MakiY',\n",
       "       'Mammouth', 'Marc974', 'MasterBlaster', 'Maw1a_', 'Mitsuo',\n",
       "       'MizhaelZeyuChen', \"Mo'menMohHamdy\", 'Monir786', 'Morne',\n",
       "       'Nandini2000', 'NeutrinoAnt', 'NielsW', 'Omkar3103', 'Poneface',\n",
       "       'Rohit1905', 'RutujaRane', 'Saketkr21', 'Seb314', 'StormSpirit',\n",
       "       'Tecnosam', 'TheBoaredProgrammer', 'Tr3cks', 'Volifter',\n",
       "       'ZulqarnainAbbas', 'ZytchiX', 'abhirao', 'achyutha',\n",
       "       'alvinj.delacruz@gmail.com', 'bHaSkAr', 'benguin', 'carlossless',\n",
       "       'cillinzhang', 'coffeered', 'daVinci', 'deep.sarkar', 'dias17',\n",
       "       'dorime', 'drakeire', 'erencantemur', 'georgpap@isi.edu',\n",
       "       'ishikashah2510', 'jbrummer402', 'jedrzejmikolajczyk',\n",
       "       'jeholliday', 'joaobernardo01', 'kappahouse', 'kawasaki',\n",
       "       'kiritowo', 'lazylife', 'loke26', 'louis.renaux@berkeley.edu',\n",
       "       'machy', 'markopuza', 'metanovitia', 'mickie895', 'mortal_1',\n",
       "       'mustafahaddara', 'nandangrover', 'nikhil360', 'rhfktj', 'ricsi98',\n",
       "       'sai_ganesh', 'salaschen', 'samlushadi', 'sanDeep', 'shivamsharma',\n",
       "       'simha0204', 'simpleapples', 'sourcestrong', 'spence', 'szalaib',\n",
       "       'the-maze-runner', 'thusharakart', 'vatsal-kandoi',\n",
       "       'vladomar@gmail.com', 'vutung2311', 'warrior123',\n",
       "       'waterstorm64@gmail.com', 'x1Mike7x', 'yingying2019', 'zachbodi'],\n",
       "      dtype='<U25')"
      ]
     },
     "execution_count": 64,
     "metadata": {},
     "output_type": "execute_result"
    }
   ],
   "source": [
    "# List of users\n",
    "np.unique(y_train)"
   ]
  }
 ],
 "metadata": {
  "kernelspec": {
   "display_name": "Python 3",
   "language": "python",
   "name": "python3"
  },
  "language_info": {
   "codemirror_mode": {
    "name": "ipython",
    "version": 3
   },
   "file_extension": ".py",
   "mimetype": "text/x-python",
   "name": "python",
   "nbconvert_exporter": "python",
   "pygments_lexer": "ipython3",
   "version": "3.7.3"
  }
 },
 "nbformat": 4,
 "nbformat_minor": 2
}
